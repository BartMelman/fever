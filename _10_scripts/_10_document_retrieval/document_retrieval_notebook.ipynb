{
 "cells": [
  {
   "cell_type": "code",
   "execution_count": 1,
   "metadata": {},
   "outputs": [],
   "source": [
    "import os\n",
    "import json\n",
    "from sqlitedict import SqliteDict\n",
    "import shutil\n",
    "from tqdm import tnrange\n",
    "\n",
    "from utils_db import dict_save_json, dict_load_json, load_jsonl\n",
    "from text_database import TextDatabase, Text\n",
    "from vocabulary import Vocabulary\n",
    "from vocabulary import count_n_grams\n",
    "from tfidf_database import TFIDFDatabase\n",
    "\n",
    "import config\n"
   ]
  },
  {
   "cell_type": "code",
   "execution_count": 2,
   "metadata": {},
   "outputs": [],
   "source": [
    "__root__ = os.path.dirname(os.path.dirname(os.getcwd()))\n",
    "__data_dir__ = \"_01_data\"\n",
    "__wiki_dir__ = \"_02_wikipedia_pages\"\n",
    "__dep_dir__ = \"_90_dependencies\"\n",
    "__raw_data_dir__ = \"_01_raw_data\"\n",
    "__jupyter_notebook_dir__ = \"_98_jupyter_notebook\"\n",
    "path_mydict_tf_idf = \"mydict_tf_idf.sqlite\"\n",
    "path_mydict_ids = \"mydict_ids.sqlite\"\n"
   ]
  },
  {
   "cell_type": "code",
   "execution_count": 3,
   "metadata": {},
   "outputs": [],
   "source": [
    "path_dev_set = os.path.join(__root__, __data_dir__, __raw_data_dir__, \"dev.jsonl\")\n",
    "results = load_jsonl(path_dev_set)\n",
    "# results[0:5]"
   ]
  },
  {
   "cell_type": "code",
   "execution_count": 4,
   "metadata": {},
   "outputs": [
    {
     "name": "stdout",
     "output_type": "stream",
     "text": [
      "/home/bmelman/C_disk/02_university/06_thesis/01_code/fever/_01_data/_03_database/wiki.db\n"
     ]
    }
   ],
   "source": [
    "from text_database import TextDatabase\n",
    "\n",
    "path_large_wiki_database = '/home/bmelman/C_disk/02_university/06_thesis/01_code/fever/_01_data/_03_database/wiki.db' \n",
    "# path_wiki_database = 'wiki.db'\n",
    "table_name_wiki = 'wikipages'\n",
    "\n",
    "text_db = TextDatabase(path_large_wiki_database, table_name_wiki)"
   ]
  },
  {
   "cell_type": "code",
   "execution_count": 15,
   "metadata": {},
   "outputs": [],
   "source": []
  },
  {
   "cell_type": "code",
   "execution_count": 36,
   "metadata": {},
   "outputs": [
    {
     "data": {
      "text/plain": [
       "(0.7077882297074006, 1022473)"
      ]
     },
     "execution_count": 36,
     "metadata": {},
     "output_type": "execute_result"
    }
   ],
   "source": [
    "from vocabulary import count_n_grams\n",
    "id = 1\n",
    "sum_new = 0\n",
    "sum_old = 0\n",
    "n_gram = 3\n",
    "\n",
    "for id in range(40000, 60000):\n",
    "    method_tokenization = [\"tokenize\", \"make_lower_case\"]\n",
    "    text = text_db.get_tokenized_text_from_id(id, method_tokenization)\n",
    "    sum_new += len(count_n_grams(text,n_gram,'str')[0])\n",
    "    sum_old += (len(text)-1)\n",
    "sum_new/sum_old, sum_new"
   ]
  },
  {
   "cell_type": "code",
   "execution_count": null,
   "metadata": {},
   "outputs": [],
   "source": []
  },
  {
   "cell_type": "markdown",
   "metadata": {},
   "source": [
    "# Experiment"
   ]
  },
  {
   "cell_type": "code",
   "execution_count": null,
   "metadata": {},
   "outputs": [],
   "source": [
    "# from text_database import TextDatabase\n",
    "\n",
    "# path_large_wiki_database = '/home/bmelman/C_disk/02_university/06_thesis/01_code/fever/_01_data/_03_database/wiki.db' \n",
    "# # path_wiki_database = 'wiki.db'\n",
    "# table_name_wiki = 'wikipages'\n",
    "\n",
    "# text_db = TextDatabase(path_large_wiki_database, table_name_wiki)\n",
    "# path_dev_set = os.path.join(__root__, __data_dir__, __raw_data_dir__, \"dev.jsonl\")\n",
    "# results = load_jsonl(path_dev_set)\n",
    "# i = 5\n",
    "# method_tokenization = [\"tokenize\", \"make_lower_case\"]\n",
    "# claim = Claim(results[i])\n",
    "# print(claim.claim)\n",
    "# print(claim.evidence)\n",
    "# id = title_2_id_dict['Damon_Albarn']\n",
    "# print(text_db.get_tokenized_title_from_id(id))\n",
    "# print(text_db.get_tokenized_text_from_id(id))"
   ]
  },
  {
   "cell_type": "code",
   "execution_count": null,
   "metadata": {},
   "outputs": [],
   "source": [
    "# import os\n",
    "# import shutil\n",
    "# import json\n",
    "# import config\n",
    "\n",
    "# from vocabulary import Vocabulary\n",
    "\n",
    "# from tfidf_database import TFIDFDatabase\n",
    "\n",
    "# # === unigram titles === #\n",
    "# experiment_nr = 4\n",
    "# file_name = 'experiment_%.2d.json'%(experiment_nr)\n",
    "# path_experiment = os.path.join(config.ROOT, config.CONFIG_DIR, file_name)\n",
    "# with open(path_experiment) as json_data_file:\n",
    "#     data = json.load(json_data_file)\n",
    "\n",
    "# vocab_1 = Vocabulary(path_wiki_database = os.path.join(config.ROOT, data['path_large_wiki_database']), \n",
    "#     table_name_wiki = data['table_name_wiki'], n_gram = data['n_gram'],\n",
    "#     method_tokenization = data['method_tokenization'], source = data['vocabulary_source'])\n",
    "\n",
    "# tf_idf_db_1 = TFIDFDatabase(vocabulary = vocab_1, method_tf = data['method_tf'], method_df = data['method_df'],\n",
    "#     delimiter = data['delimiter'], threshold = data['threshold'], source = data['tf_idf_source'])\n",
    "\n",
    "# # === bigram titles === #\n",
    "# experiment_nr = 3\n",
    "# file_name = 'experiment_%.2d.json'%(experiment_nr)\n",
    "# path_experiment = os.path.join(config.ROOT, config.CONFIG_DIR, file_name)\n",
    "# with open(path_experiment) as json_data_file:\n",
    "#     data = json.load(json_data_file)\n",
    "\n",
    "# vocab_2 = Vocabulary(path_wiki_database = os.path.join(config.ROOT, data['path_large_wiki_database']), \n",
    "#     table_name_wiki = data['table_name_wiki'], n_gram = data['n_gram'],\n",
    "#     method_tokenization = data['method_tokenization'], source = data['vocabulary_source'])\n",
    "\n",
    "# tf_idf_db_2 = TFIDFDatabase(vocabulary = vocab_2, method_tf = data['method_tf'], method_df = data['method_df'],\n",
    "#     delimiter = data['delimiter'], threshold = data['threshold'], source = data['tf_idf_source'])\n",
    "# path_title_unigrams_ids = tf_idf_db_1.path_ids_dict\n",
    "# path_title_unigrams_tf_idf = tf_idf_db_1.path_tf_idf_dict\n",
    "# path_title_bigrams_ids = tf_idf_db_2.path_ids_dict\n",
    "# path_title_bigrams_tf_idf = tf_idf_db_2.path_tf_idf_dict\n"
   ]
  },
  {
   "cell_type": "code",
   "execution_count": 107,
   "metadata": {},
   "outputs": [
    {
     "ename": "NameError",
     "evalue": "name 'Vocabulary' is not defined",
     "output_type": "error",
     "traceback": [
      "\u001b[0;31m---------------------------------------------------------------------------\u001b[0m",
      "\u001b[0;31mNameError\u001b[0m                                 Traceback (most recent call last)",
      "\u001b[0;32m<ipython-input-107-4e3ae5d33f3e>\u001b[0m in \u001b[0;36m<module>\u001b[0;34m\u001b[0m\n\u001b[1;32m     16\u001b[0m \u001b[0mdelimiter\u001b[0m \u001b[0;34m=\u001b[0m \u001b[0;34m'\\k'\u001b[0m\u001b[0;34m\u001b[0m\u001b[0;34m\u001b[0m\u001b[0m\n\u001b[1;32m     17\u001b[0m \u001b[0;34m\u001b[0m\u001b[0m\n\u001b[0;32m---> 18\u001b[0;31m \u001b[0mvocab\u001b[0m \u001b[0;34m=\u001b[0m \u001b[0mVocabulary\u001b[0m\u001b[0;34m(\u001b[0m\u001b[0mpath_large_wiki_database\u001b[0m\u001b[0;34m,\u001b[0m \u001b[0mtable_name_wiki\u001b[0m\u001b[0;34m,\u001b[0m \u001b[0mn_gram\u001b[0m\u001b[0;34m,\u001b[0m \u001b[0mmethod_tokenization\u001b[0m\u001b[0;34m,\u001b[0m \u001b[0;34m'text'\u001b[0m\u001b[0;34m)\u001b[0m\u001b[0;34m\u001b[0m\u001b[0;34m\u001b[0m\u001b[0m\n\u001b[0m\u001b[1;32m     19\u001b[0m \u001b[0;31m# tf_idf_db = TFIDFDatabase(vocab, method_tf, method_df, delimiter, threshold, 'text')\u001b[0m\u001b[0;34m\u001b[0m\u001b[0;34m\u001b[0m\u001b[0;34m\u001b[0m\u001b[0m\n",
      "\u001b[0;31mNameError\u001b[0m: name 'Vocabulary' is not defined"
     ]
    }
   ],
   "source": [
    "path_large_wiki_database = '/home/bmelman/C_disk/02_university/06_thesis/01_code/fever/_01_data/_03_database/wiki.db' \n",
    "# path_wiki_database = 'wiki.db'\n",
    "table_name_wiki = 'wikipages'\n",
    "# table_name_tf_idf = 'tf_idf'\n",
    "# path_tf_idf_database = 'tf_idf.db'\n",
    "# path_mydict_tf_idf = 'mydict_tf_idf.sqlite'\n",
    "# path_mydict_ids = 'mydict_ids.sqlite'\n",
    "\n",
    "# === settings experiment === #\n",
    "n_gram = 2\n",
    "# method_tokenization = ['tokenize', 'remove_space', 'make_lower_case', 'lemmatization_get_nouns']\n",
    "method_tokenization = ['tokenize', 'make_lower_case']\n",
    "threshold = 0.001\n",
    "method_tf = 'raw_count' # raw_count term_frequency\n",
    "method_df = 'inverse_document_frequency' # \n",
    "delimiter = '\\k'\n",
    "\n",
    "vocab = Vocabulary(path_large_wiki_database, table_name_wiki, n_gram, method_tokenization, 'text')\n",
    "# tf_idf_db = TFIDFDatabase(vocab, method_tf, method_df, delimiter, threshold, 'text')"
   ]
  },
  {
   "cell_type": "code",
   "execution_count": 10,
   "metadata": {},
   "outputs": [
    {
     "data": {
      "text/plain": [
       "['the',\n",
       " 'following',\n",
       " 'are',\n",
       " 'the',\n",
       " 'football',\n",
       " '-lrb-',\n",
       " 'soccer',\n",
       " '-rrb-',\n",
       " 'events',\n",
       " 'of',\n",
       " 'the',\n",
       " 'year',\n",
       " '1928',\n",
       " 'throughout',\n",
       " 'the',\n",
       " 'world',\n",
       " '.',\n",
       " '']"
      ]
     },
     "execution_count": 10,
     "metadata": {},
     "output_type": "execute_result"
    }
   ],
   "source": [
    "id_nr=1\n",
    "\n",
    "vocab.text_database.get_tokenized_text_from_id(id_nr, method_tokenization)"
   ]
  },
  {
   "cell_type": "code",
   "execution_count": null,
   "metadata": {},
   "outputs": [],
   "source": []
  },
  {
   "cell_type": "code",
   "execution_count": null,
   "metadata": {},
   "outputs": [],
   "source": []
  },
  {
   "cell_type": "code",
   "execution_count": null,
   "metadata": {},
   "outputs": [],
   "source": []
  },
  {
   "cell_type": "code",
   "execution_count": null,
   "metadata": {},
   "outputs": [],
   "source": []
  },
  {
   "cell_type": "code",
   "execution_count": null,
   "metadata": {},
   "outputs": [],
   "source": []
  },
  {
   "cell_type": "code",
   "execution_count": null,
   "metadata": {},
   "outputs": [],
   "source": []
  }
 ],
 "metadata": {
  "kernelspec": {
   "display_name": "Python 3",
   "language": "python",
   "name": "python3"
  },
  "language_info": {
   "codemirror_mode": {
    "name": "ipython",
    "version": 3
   },
   "file_extension": ".py",
   "mimetype": "text/x-python",
   "name": "python",
   "nbconvert_exporter": "python",
   "pygments_lexer": "ipython3",
   "version": "3.6.7"
  }
 },
 "nbformat": 4,
 "nbformat_minor": 2
}
