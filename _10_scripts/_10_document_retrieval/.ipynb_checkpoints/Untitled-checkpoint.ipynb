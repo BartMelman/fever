{
 "cells": [
  {
   "cell_type": "code",
   "execution_count": 3,
   "metadata": {},
   "outputs": [],
   "source": [
    "import os\n",
    "from sqlitedict import SqliteDict\n",
    "import sqlite3\n",
    "import tqdm\n",
    "from tqdm import tnrange\n",
    "import shutil\n",
    "\n",
    "from document import Document\n",
    "\n",
    "from utils_db import dict_save_json, dict_load_json\n",
    "# from tf_idf import count_n_grams\n",
    "from dictionary_batch_idf import DictionaryBatchIDF\n",
    "from vocabulary import Vocabulary, count_n_grams\n",
    "from tfidf_database import TFIDFDatabase\n",
    "\n",
    "from _10_scripts._01_database.wiki_database import WikiDatabase"
   ]
  },
  {
   "cell_type": "code",
   "execution_count": 10,
   "metadata": {},
   "outputs": [
    {
     "ename": "FileNotFoundError",
     "evalue": "[Errno 2] No such file or directory: '/home/bmelman/C_disk/02_university/06_thesis/01_code/fever/_04_results/experiment_01.json'",
     "output_type": "error",
     "traceback": [
      "\u001b[0;31m---------------------------------------------------------------------------\u001b[0m",
      "\u001b[0;31mFileNotFoundError\u001b[0m                         Traceback (most recent call last)",
      "\u001b[0;32m<ipython-input-10-3584f25b1f9b>\u001b[0m in \u001b[0;36m<module>\u001b[0;34m\u001b[0m\n\u001b[1;32m      5\u001b[0m \u001b[0;32mimport\u001b[0m \u001b[0mjson\u001b[0m\u001b[0;34m\u001b[0m\u001b[0;34m\u001b[0m\u001b[0m\n\u001b[1;32m      6\u001b[0m \u001b[0;34m\u001b[0m\u001b[0m\n\u001b[0;32m----> 7\u001b[0;31m \u001b[0;32mwith\u001b[0m \u001b[0mopen\u001b[0m\u001b[0;34m(\u001b[0m\u001b[0mpath_experiment\u001b[0m\u001b[0;34m)\u001b[0m \u001b[0;32mas\u001b[0m \u001b[0mjson_data_file\u001b[0m\u001b[0;34m:\u001b[0m\u001b[0;34m\u001b[0m\u001b[0;34m\u001b[0m\u001b[0m\n\u001b[0m\u001b[1;32m      8\u001b[0m     \u001b[0mdata\u001b[0m \u001b[0;34m=\u001b[0m \u001b[0mjson\u001b[0m\u001b[0;34m.\u001b[0m\u001b[0mload\u001b[0m\u001b[0;34m(\u001b[0m\u001b[0mjson_data_file\u001b[0m\u001b[0;34m)\u001b[0m\u001b[0;34m\u001b[0m\u001b[0;34m\u001b[0m\u001b[0m\n",
      "\u001b[0;31mFileNotFoundError\u001b[0m: [Errno 2] No such file or directory: '/home/bmelman/C_disk/02_university/06_thesis/01_code/fever/_04_results/experiment_01.json'"
     ]
    }
   ],
   "source": [
    "import config\n",
    "import json\n",
    "\n",
    "experiment_nr = 1\n",
    "file_name = 'experiment_%.2d.json'%(experiment_nr)\n",
    "path_experiment = os.path.join(config.ROOT, config.RESULTS_DIR, file_name)\n",
    "\n",
    "with open(path_experiment) as json_data_file:\n",
    "    data = json.load(json_data_file)"
   ]
  },
  {
   "cell_type": "code",
   "execution_count": 2,
   "metadata": {},
   "outputs": [
    {
     "name": "stdout",
     "output_type": "stream",
     "text": [
      "/home/bmelman/C_disk/02_university/06_thesis/01_code/fever/_01_data/_03_database/wiki.db\n",
      "/home/bmelman/C_disk/02_university/06_thesis/01_code/fever/_04_results/vocab_text_2_t_mlc\n",
      "Word count count dictionary already exists\n",
      "Document count dictionary already exists\n",
      "Load title_2_id and id_2_title dictionaries\n"
     ]
    }
   ],
   "source": [
    "path_large_wiki_database = '/home/bmelman/C_disk/02_university/06_thesis/01_code/fever/_01_data/_03_database/wiki.db' \n",
    "# path_wiki_database = 'wiki.db'\n",
    "table_name_wiki = 'wikipages'\n",
    "# table_name_tf_idf = 'tf_idf'\n",
    "# path_tf_idf_database = 'tf_idf.db'\n",
    "# path_mydict_tf_idf = 'mydict_tf_idf.sqlite'\n",
    "# path_mydict_ids = 'mydict_ids.sqlite'\n",
    "\n",
    "# === settings experiment === #\n",
    "n_gram = 2\n",
    "# method_tokenization = ['tokenize', 'remove_space', 'make_lower_case', 'lemmatization_get_nouns']\n",
    "method_tokenization = ['tokenize', 'make_lower_case']\n",
    "threshold = 0.001\n",
    "method_tf = 'raw_count' # raw_count term_frequency\n",
    "method_df = 'inverse_document_frequency' # \n",
    "delimiter = '\\k'\n",
    "\n",
    "vocab = Vocabulary(path_large_wiki_database, table_name_wiki, n_gram, method_tokenization, 'text')\n",
    "# tf_idf_db = TFIDFDatabase(vocab, method_tf, method_df, delimiter, threshold, 'text')"
   ]
  },
  {
   "cell_type": "code",
   "execution_count": 10,
   "metadata": {},
   "outputs": [
    {
     "data": {
      "text/plain": [
       "['the',\n",
       " 'following',\n",
       " 'are',\n",
       " 'the',\n",
       " 'football',\n",
       " '-lrb-',\n",
       " 'soccer',\n",
       " '-rrb-',\n",
       " 'events',\n",
       " 'of',\n",
       " 'the',\n",
       " 'year',\n",
       " '1928',\n",
       " 'throughout',\n",
       " 'the',\n",
       " 'world',\n",
       " '.',\n",
       " '']"
      ]
     },
     "execution_count": 10,
     "metadata": {},
     "output_type": "execute_result"
    }
   ],
   "source": [
    "id_nr=1\n",
    "\n",
    "vocab.text_database.get_tokenized_text_from_id(id_nr, method_tokenization)"
   ]
  },
  {
   "cell_type": "code",
   "execution_count": null,
   "metadata": {},
   "outputs": [],
   "source": []
  },
  {
   "cell_type": "code",
   "execution_count": 68,
   "metadata": {},
   "outputs": [
    {
     "name": "stdout",
     "output_type": "stream",
     "text": [
      "('hoi', 'this')\n",
      "('this', 'hoi')\n",
      "('this', 'is')\n"
     ]
    }
   ],
   "source": [
    "\n",
    "\n",
    "from nltk import FreqDist\n",
    "from nltk.util import ngrams    \n",
    "\n",
    "\n",
    "bigramfdist = FreqDist()\n",
    "\n",
    "line = 'hoi this hoi this is'\n",
    "tokens = line.strip().split(' ')\n",
    "\n",
    "bigrams = ngrams(tokens, 2)\n",
    "bigrams = unique_values(sorted(bigrams))\n",
    "print_iteration(bigrams)\n",
    "\n",
    "# bigramfdist.update(bigrams)\n",
    "# compute_freq()\n",
    "\n",
    "# bigramfdist\n",
    "\n",
    "# list(set(list(bigrams)))\n"
   ]
  },
  {
   "cell_type": "code",
   "execution_count": 62,
   "metadata": {},
   "outputs": [],
   "source": [
    "def print_iteration(input):\n",
    "    for key in input:\n",
    "        print(key)\n"
   ]
  },
  {
   "cell_type": "code",
   "execution_count": 40,
   "metadata": {},
   "outputs": [
    {
     "data": {
      "text/plain": [
       "set()"
      ]
     },
     "execution_count": 40,
     "metadata": {},
     "output_type": "execute_result"
    }
   ],
   "source": [
    "set(bigrams)"
   ]
  },
  {
   "cell_type": "code",
   "execution_count": 49,
   "metadata": {},
   "outputs": [],
   "source": [
    "def unique_values(iterable):\n",
    "    it = iter(iterable)\n",
    "    previous = next(it)\n",
    "    yield previous\n",
    "    for item in it:\n",
    "        if item != previous:\n",
    "            previous = item\n",
    "            yield item\n",
    "# tuple(unique_values((1, 2, 3, 3, 4, 4, 5)))\n"
   ]
  },
  {
   "cell_type": "code",
   "execution_count": 50,
   "metadata": {},
   "outputs": [
    {
     "data": {
      "text/plain": [
       "<generator object unique_values at 0x7fa41b03bca8>"
      ]
     },
     "execution_count": 50,
     "metadata": {},
     "output_type": "execute_result"
    }
   ],
   "source": [
    "unique_values(bigrams)"
   ]
  },
  {
   "cell_type": "code",
   "execution_count": null,
   "metadata": {},
   "outputs": [],
   "source": []
  }
 ],
 "metadata": {
  "kernelspec": {
   "display_name": "Python 3",
   "language": "python",
   "name": "python3"
  },
  "language_info": {
   "codemirror_mode": {
    "name": "ipython",
    "version": 3
   },
   "file_extension": ".py",
   "mimetype": "text/x-python",
   "name": "python",
   "nbconvert_exporter": "python",
   "pygments_lexer": "ipython3",
   "version": "3.6.7"
  }
 },
 "nbformat": 4,
 "nbformat_minor": 2
}
