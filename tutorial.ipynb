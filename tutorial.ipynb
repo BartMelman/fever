{
 "cells": [
  {
   "cell_type": "markdown",
   "metadata": {},
   "source": [
    "# FEVER Database Structures (4x)"
   ]
  },
  {
   "cell_type": "markdown",
   "metadata": {},
   "source": [
    "I created four different database structures to access the wikipedia and claim data. The WikiDatabase gives access to the basic information from the wikipedia pages and the ClaimDatabase gives access to the basic information from the claims. The text and claims from these databases are not splitted yet. The WikiDatabaseNgrams and ClaimDatabaseNgrams database give access to the tokenized text of the wikipedia pages and claims. With the Spacy package is costly. Therefore, the tokenized text is stored for different methods of tokenization."
   ]
  },
  {
   "cell_type": "markdown",
   "metadata": {},
   "source": [
    "- WikiDatabase\n",
    "- ClaimDatabase\n",
    "- WikiDatabaseNgrams\n",
    "- ClaimDatabaseNgrams"
   ]
  },
  {
   "cell_type": "markdown",
   "metadata": {},
   "source": [
    "# Wikipedia Database"
   ]
  },
  {
   "cell_type": "code",
   "execution_count": 1,
   "metadata": {},
   "outputs": [
    {
     "name": "stdout",
     "output_type": "stream",
     "text": [
      "WikiDatabase\n",
      "***finished***\n"
     ]
    }
   ],
   "source": [
    "import os \n",
    "\n",
    "from wiki_database import WikiDatabaseSqlite\n",
    "\n",
    "import config\n",
    "\n",
    "path_wiki_pages = os.path.join(config.ROOT, config.DATA_DIR, config.WIKI_PAGES_DIR, 'wiki-pages')\n",
    "path_wiki_database_dir = os.path.join(config.ROOT, config.DATA_DIR, config.DATABASE_DIR)\n",
    "\n",
    "wiki_database = WikiDatabaseSqlite(path_wiki_database_dir, path_wiki_pages)\n"
   ]
  },
  {
   "cell_type": "code",
   "execution_count": 30,
   "metadata": {},
   "outputs": [],
   "source": [
    "document_id = 1\n",
    "title = '1986 NBA Finals'"
   ]
  },
  {
   "cell_type": "markdown",
   "metadata": {},
   "source": [
    "## Title of Wikipedia page"
   ]
  },
  {
   "cell_type": "code",
   "execution_count": 4,
   "metadata": {},
   "outputs": [
    {
     "data": {
      "text/plain": [
       "'1986 NBA Finals'"
      ]
     },
     "execution_count": 4,
     "metadata": {},
     "output_type": "execute_result"
    }
   ],
   "source": [
    "wiki_database.get_item(input_type='id', input_value=document_id, output_type='title')"
   ]
  },
  {
   "cell_type": "markdown",
   "metadata": {},
   "source": [
    "## Text of Wikipedia page"
   ]
  },
  {
   "cell_type": "code",
   "execution_count": 5,
   "metadata": {},
   "outputs": [
    {
     "data": {
      "text/plain": [
       "\"The 1986 NBA Finals was the championship round of the 1985 -- 86 NBA season . It pitted the Eastern Conference champion Boston Celtics against the Western Conference champion Houston Rockets , in a rematch of the 1981 Finals ( only Allen Leavell and Robert Reid remained from the Rockets ' 1981 team ) . The Celtics defeated the Rockets four games to two to win their 16th NBA championship . The championship would be the Celtics ' last until the 2008 NBA Finals . Larry Bird was named the Finals MVP .   On another note , this series marked the first time the `` NBA Finals '' branding was officially used , as they dropped the `` NBA World Championship Series '' branding which had been in use since the beginning of the league , though it had been unofficially called the `` NBA Finals '' for years .   Until the 2011 series , this was the last time the NBA Finals had started before June . Since game three , all NBA Finals games have been played in June . Starting with the following year , the NBA Finals would be held exclusively in the month of June . It was also the last NBA Finals series to schedule a game on a Monday until 1999 and also the last NBA Finals game to be played on Memorial Day .   CBS Sports used Dick Stockton and Tom Heinsohn as the play-by-play man and color commentator respectively . Meanwhile , Brent Musburger was the host and Pat O'Brien ( the Rockets ' sideline ) and Lesley Visser ( the Celtics ' sideline ) were the sideline reporters . \""
      ]
     },
     "execution_count": 5,
     "metadata": {},
     "output_type": "execute_result"
    }
   ],
   "source": [
    "wiki_database.get_item(input_type='id', input_value=document_id, output_type='text')"
   ]
  },
  {
   "cell_type": "markdown",
   "metadata": {},
   "source": [
    "## List of sentences Wikipedia page"
   ]
  },
  {
   "cell_type": "code",
   "execution_count": 6,
   "metadata": {},
   "outputs": [
    {
     "data": {
      "text/plain": [
       "['The 1986 NBA Finals was the championship round of the 1985 -- 86 NBA season .',\n",
       " \"It pitted the Eastern Conference champion Boston Celtics against the Western Conference champion Houston Rockets , in a rematch of the 1981 Finals -LRB- only Allen Leavell and Robert Reid remained from the Rockets ' 1981 team -RRB- .\",\n",
       " 'The Celtics defeated the Rockets four games to two to win their 16th NBA championship .',\n",
       " \"The championship would be the Celtics ' last until the 2008 NBA Finals .\",\n",
       " 'Larry Bird was named the Finals MVP .',\n",
       " '',\n",
       " '',\n",
       " \"On another note , this series marked the first time the `` NBA Finals '' branding was officially used , as they dropped the `` NBA World Championship Series '' branding which had been in use since the beginning of the league , though it had been unofficially called the `` NBA Finals '' for years .\",\n",
       " '',\n",
       " '',\n",
       " 'Until the 2011 series , this was the last time the NBA Finals had started before June .',\n",
       " 'Since game three , all NBA Finals games have been played in June .',\n",
       " 'Starting with the following year , the NBA Finals would be held exclusively in the month of June .',\n",
       " 'It was also the last NBA Finals series to schedule a game on a Monday until 1999 and also the last NBA Finals game to be played on Memorial Day .',\n",
       " '',\n",
       " '',\n",
       " 'CBS Sports used Dick Stockton and Tom Heinsohn as the play-by-play man and color commentator respectively .',\n",
       " \"Meanwhile , Brent Musburger was the host and Pat O'Brien -LRB- the Rockets ' sideline -RRB- and Lesley Visser -LRB- the Celtics ' sideline -RRB- were the sideline reporters .\",\n",
       " '']"
      ]
     },
     "execution_count": 6,
     "metadata": {},
     "output_type": "execute_result"
    }
   ],
   "source": [
    "wiki_database.get_item(input_type='id', input_value=document_id, output_type='lines')"
   ]
  },
  {
   "cell_type": "markdown",
   "metadata": {},
   "source": [
    "## From title to document id"
   ]
  },
  {
   "cell_type": "code",
   "execution_count": 7,
   "metadata": {},
   "outputs": [
    {
     "data": {
      "text/plain": [
       "1"
      ]
     },
     "execution_count": 7,
     "metadata": {},
     "output_type": "execute_result"
    }
   ],
   "source": [
    "wiki_database.get_item(input_type='title', input_value=title, output_type='id')"
   ]
  },
  {
   "cell_type": "markdown",
   "metadata": {},
   "source": [
    "# Claim Database"
   ]
  },
  {
   "cell_type": "code",
   "execution_count": 8,
   "metadata": {},
   "outputs": [
    {
     "name": "stdout",
     "output_type": "stream",
     "text": [
      "ClaimDatabase\n",
      "***finished***\n"
     ]
    }
   ],
   "source": [
    "import os\n",
    "\n",
    "from claim_database import ClaimDatabase\n",
    "\n",
    "import config\n",
    "\n",
    "path_raw_data = os.path.join(config.ROOT, config.DATA_DIR, config.RAW_DATA_DIR)\n",
    "path_database_dir = os.path.join(config.ROOT, config.DATA_DIR, config.DATABASE_DIR)\n",
    "claim_data_set = 'dev' # 'dev' or 'train'\n",
    "\n",
    "claim_database = ClaimDatabase(path_dir_database=path_database_dir,\n",
    "                               path_raw_data_dir=path_raw_data,\n",
    "                               claim_data_set=claim_data_set,\n",
    "                               wiki_database=wiki_database)\n"
   ]
  },
  {
   "cell_type": "code",
   "execution_count": 9,
   "metadata": {},
   "outputs": [],
   "source": [
    "claim_id = 1"
   ]
  },
  {
   "cell_type": "markdown",
   "metadata": {},
   "source": [
    "## claim id to original id of claim\n",
    "The numbers of the claims in the provided dataset are extremely high and appear random. I renumbered them from zero till the number of claims. The following line can be used to retrieve the original claim number."
   ]
  },
  {
   "cell_type": "code",
   "execution_count": 10,
   "metadata": {},
   "outputs": [
    {
     "data": {
      "text/plain": [
       "194462"
      ]
     },
     "execution_count": 10,
     "metadata": {},
     "output_type": "execute_result"
    }
   ],
   "source": [
    "claim_database.get_item(input_type='id', input_value=claim_id, output_type='id_number')"
   ]
  },
  {
   "cell_type": "markdown",
   "metadata": {},
   "source": [
    "## verifiable"
   ]
  },
  {
   "cell_type": "markdown",
   "metadata": {},
   "source": [
    "A claim can be 'VERIFIABLE' or 'NOT VERIFIABLE'. The output_type 'verifiable_str' is the string version of the flag and the output_type 'verifiable_int' is the integer version of the flag. The integer flag can be used to train the sentence retrieval model. By storing the integer version directly, there is no confusion later in the model."
   ]
  },
  {
   "cell_type": "code",
   "execution_count": 12,
   "metadata": {},
   "outputs": [
    {
     "data": {
      "text/plain": [
       "'NOT VERIFIABLE'"
      ]
     },
     "execution_count": 12,
     "metadata": {},
     "output_type": "execute_result"
    }
   ],
   "source": [
    "claim_database.get_item(input_type='id', input_value=claim_id, output_type='verifiable_str')"
   ]
  },
  {
   "cell_type": "code",
   "execution_count": 13,
   "metadata": {},
   "outputs": [
    {
     "data": {
      "text/plain": [
       "0"
      ]
     },
     "execution_count": 13,
     "metadata": {},
     "output_type": "execute_result"
    }
   ],
   "source": [
    "claim_database.get_item(input_type='id', input_value=claim_id, output_type='verifiable_int')"
   ]
  },
  {
   "cell_type": "markdown",
   "metadata": {},
   "source": [
    "## label"
   ]
  },
  {
   "cell_type": "markdown",
   "metadata": {},
   "source": [
    "A claim can be 'NOT ENOUGH INFO', 'SUPPORTS' or 'REFUTES'. The output_type 'label_str' is the string version of the flag and the output_type 'label_int' is the integer version of the flag. The integer flag can be used to train the label prediction stage. By storing the integer version directly, there is no confusion later in the model."
   ]
  },
  {
   "cell_type": "code",
   "execution_count": 14,
   "metadata": {},
   "outputs": [
    {
     "data": {
      "text/plain": [
       "'NOT ENOUGH INFO'"
      ]
     },
     "execution_count": 14,
     "metadata": {},
     "output_type": "execute_result"
    }
   ],
   "source": [
    "claim_database.get_item(input_type='id', input_value=claim_id, output_type='label_str')"
   ]
  },
  {
   "cell_type": "code",
   "execution_count": 15,
   "metadata": {},
   "outputs": [
    {
     "data": {
      "text/plain": [
       "2"
      ]
     },
     "execution_count": 15,
     "metadata": {},
     "output_type": "execute_result"
    }
   ],
   "source": [
    "claim_database.get_item(input_type='id', input_value=claim_id, output_type='label_int')"
   ]
  },
  {
   "cell_type": "markdown",
   "metadata": {},
   "source": [
    "## text of claim"
   ]
  },
  {
   "cell_type": "markdown",
   "metadata": {},
   "source": [
    "The text of a claim can be recovered with the following line."
   ]
  },
  {
   "cell_type": "code",
   "execution_count": 16,
   "metadata": {},
   "outputs": [
    {
     "data": {
      "text/plain": [
       "'Tilda Swinton is a vegan.'"
      ]
     },
     "execution_count": 16,
     "metadata": {},
     "output_type": "execute_result"
    }
   ],
   "source": [
    "claim_database.get_item(input_type='id', input_value=claim_id, output_type='claim')"
   ]
  },
  {
   "cell_type": "markdown",
   "metadata": {},
   "source": [
    "# evidence"
   ]
  },
  {
   "cell_type": "code",
   "execution_count": 17,
   "metadata": {},
   "outputs": [],
   "source": [
    "claim_id=7"
   ]
  },
  {
   "cell_type": "markdown",
   "metadata": {},
   "source": [
    "The evidence of a claim is retrieved with the following line. I created a class Evidence as well, which allows easy handling of the evidence, since it consists of a nested list."
   ]
  },
  {
   "cell_type": "code",
   "execution_count": 18,
   "metadata": {},
   "outputs": [
    {
     "data": {
      "text/plain": [
       "[[[260471, 258880, 4307072, 3]], [[260473, 258882, 4307072, 3]]]"
      ]
     },
     "execution_count": 18,
     "metadata": {},
     "output_type": "execute_result"
    }
   ],
   "source": [
    "claim_database.get_item(input_type='id', input_value=claim_id, output_type='evidence')"
   ]
  },
  {
   "cell_type": "code",
   "execution_count": 19,
   "metadata": {},
   "outputs": [],
   "source": [
    "from claim_database import Evidence\n",
    "\n",
    "evidence = Evidence(claim_database.get_item(input_type='id', input_value=claim_id, output_type='evidence'))"
   ]
  },
  {
   "cell_type": "markdown",
   "metadata": {},
   "source": [
    "## nr annotators"
   ]
  },
  {
   "cell_type": "code",
   "execution_count": 20,
   "metadata": {},
   "outputs": [
    {
     "data": {
      "text/plain": [
       "2"
      ]
     },
     "execution_count": 20,
     "metadata": {},
     "output_type": "execute_result"
    }
   ],
   "source": [
    "evidence.get_nr_annotators()"
   ]
  },
  {
   "cell_type": "markdown",
   "metadata": {},
   "source": [
    "## nr evidence sentences for annotator X"
   ]
  },
  {
   "cell_type": "code",
   "execution_count": 21,
   "metadata": {},
   "outputs": [
    {
     "data": {
      "text/plain": [
       "1"
      ]
     },
     "execution_count": 21,
     "metadata": {},
     "output_type": "execute_result"
    }
   ],
   "source": [
    "evidence.get_nr_evidence_sentences(annotator_nr=0)"
   ]
  },
  {
   "cell_type": "markdown",
   "metadata": {},
   "source": [
    "## evidence document and sentence number"
   ]
  },
  {
   "cell_type": "code",
   "execution_count": 22,
   "metadata": {},
   "outputs": [
    {
     "data": {
      "text/plain": [
       "(4307072, 3)"
      ]
     },
     "execution_count": 22,
     "metadata": {},
     "output_type": "execute_result"
    }
   ],
   "source": [
    "annotator_nr = 0\n",
    "sentence_nr = 0\n",
    "document_nr, sentence_nr = evidence.get_evidence(annotator_nr=annotator_nr, sentence_nr=sentence_nr)\n",
    "document_nr, sentence_nr"
   ]
  },
  {
   "cell_type": "markdown",
   "metadata": {},
   "source": [
    "# N-Grams Claim Database"
   ]
  },
  {
   "cell_type": "markdown",
   "metadata": {},
   "source": [
    "- method_tokenization (options): 'tokenize', 'tag', 'lower'\n",
    "- n_gram (options): 1, 2\n",
    "- delimiter_option (options): True, False"
   ]
  },
  {
   "cell_type": "code",
   "execution_count": 23,
   "metadata": {},
   "outputs": [
    {
     "name": "stdout",
     "output_type": "stream",
     "text": [
      "ClaimDatabaseNgrams\n",
      "***finished***\n"
     ]
    }
   ],
   "source": [
    "from claim_database_n_grams import ClaimDatabaseNgrams\n",
    "\n",
    "method_tokenization = 'tokenize' \n",
    "n_gram = 1\n",
    "delimiter_option = True\n",
    "claim_database_n_grams = ClaimDatabaseNgrams(path_dir_database=path_database_dir,\n",
    "                                             claim_database=claim_database,\n",
    "                                             method_tokenization=method_tokenization,\n",
    "                                             n_gram=n_gram,\n",
    "                                             delimiter_option=delimiter_option)"
   ]
  },
  {
   "cell_type": "code",
   "execution_count": 24,
   "metadata": {},
   "outputs": [],
   "source": [
    "claim_id = 1"
   ]
  },
  {
   "cell_type": "code",
   "execution_count": 25,
   "metadata": {},
   "outputs": [
    {
     "data": {
      "text/plain": [
       "['Tilda', 'Swinton', 'is', 'a', 'vegan', '.']"
      ]
     },
     "execution_count": 25,
     "metadata": {},
     "output_type": "execute_result"
    }
   ],
   "source": [
    "claim_database_n_grams.get_item(input_type='id', input_value=claim_id, output_type='claim')"
   ]
  },
  {
   "cell_type": "code",
   "execution_count": 26,
   "metadata": {},
   "outputs": [
    {
     "name": "stdout",
     "output_type": "stream",
     "text": [
      "ClaimDatabaseNgrams\n",
      "***finished***\n"
     ]
    }
   ],
   "source": [
    "from claim_database_n_grams import ClaimDatabaseNgrams\n",
    "\n",
    "method_tokenization = 'tag' \n",
    "n_gram = 1\n",
    "delimiter_option = True\n",
    "claim_database_n_grams = ClaimDatabaseNgrams(path_dir_database=path_database_dir,\n",
    "                                             claim_database=claim_database,\n",
    "                                             method_tokenization=method_tokenization,\n",
    "                                             n_gram=n_gram,\n",
    "                                             delimiter_option=delimiter_option)"
   ]
  },
  {
   "cell_type": "code",
   "execution_count": 27,
   "metadata": {},
   "outputs": [
    {
     "data": {
      "text/plain": [
       "['PROPN', 'PROPN', 'VERB', 'DET', 'NOUN', 'PUNCT']"
      ]
     },
     "execution_count": 27,
     "metadata": {},
     "output_type": "execute_result"
    }
   ],
   "source": [
    "claim_database_n_grams.get_item(input_type='id', input_value=claim_id, output_type='claim')"
   ]
  },
  {
   "cell_type": "markdown",
   "metadata": {},
   "source": [
    "# N-Grams Wikipedia Database"
   ]
  },
  {
   "cell_type": "markdown",
   "metadata": {},
   "source": [
    "- method_tokenization (options): 'tokenize', 'tag', 'lower'\n",
    "- n_gram (options): 1, 2\n",
    "- delimiter_option (options): True, False"
   ]
  },
  {
   "cell_type": "code",
   "execution_count": 23,
   "metadata": {},
   "outputs": [
    {
     "name": "stdout",
     "output_type": "stream",
     "text": [
      "WikiDatabaseNgrams\n",
      "***finished***\n"
     ]
    }
   ],
   "source": [
    "from wiki_database_n_grams import WikiDatabaseNgrams\n",
    "\n",
    "method_tokenization = 'tokenize'\n",
    "n_gram = 2\n",
    "delimiter_option = False\n",
    "wiki_database_n_grams = WikiDatabaseNgrams(path_dir_database=path_wiki_database_dir,\n",
    "                                             wiki_database=wiki_database,\n",
    "                                             method_tokenization=method_tokenization,\n",
    "                                             n_gram=n_gram,\n",
    "                                             delimiter_option=delimiter_option)\n"
   ]
  },
  {
   "cell_type": "code",
   "execution_count": 24,
   "metadata": {},
   "outputs": [],
   "source": [
    "document_id=1\n"
   ]
  },
  {
   "cell_type": "markdown",
   "metadata": {},
   "source": [
    "## Title"
   ]
  },
  {
   "cell_type": "code",
   "execution_count": 25,
   "metadata": {},
   "outputs": [
    {
     "data": {
      "text/plain": [
       "[['1986', 'NBA'], ['NBA', 'Finals']]"
      ]
     },
     "execution_count": 25,
     "metadata": {},
     "output_type": "execute_result"
    }
   ],
   "source": [
    "wiki_database_n_grams.get_item(input_type='id', input_value=document_id, output_type='title')"
   ]
  },
  {
   "cell_type": "markdown",
   "metadata": {},
   "source": [
    "## Text"
   ]
  },
  {
   "cell_type": "code",
   "execution_count": 26,
   "metadata": {},
   "outputs": [
    {
     "data": {
      "text/plain": [
       "[['The', '1986'],\n",
       " ['1986', 'NBA'],\n",
       " ['NBA', 'Finals'],\n",
       " ['Finals', 'was'],\n",
       " ['was', 'the'],\n",
       " ['the', 'championship'],\n",
       " ['championship', 'round'],\n",
       " ['round', 'of'],\n",
       " ['of', 'the'],\n",
       " ['the', '1985'],\n",
       " ['1985', '--'],\n",
       " ['--', '86'],\n",
       " ['86', 'NBA'],\n",
       " ['NBA', 'season'],\n",
       " ['season', '.'],\n",
       " ['.', 'It'],\n",
       " ['It', 'pitted'],\n",
       " ['pitted', 'the'],\n",
       " ['the', 'Eastern'],\n",
       " ['Eastern', 'Conference'],\n",
       " ['Conference', 'champion'],\n",
       " ['champion', 'Boston'],\n",
       " ['Boston', 'Celtics'],\n",
       " ['Celtics', 'against'],\n",
       " ['against', 'the'],\n",
       " ['the', 'Western'],\n",
       " ['Western', 'Conference'],\n",
       " ['Conference', 'champion'],\n",
       " ['champion', 'Houston'],\n",
       " ['Houston', 'Rockets'],\n",
       " ['Rockets', ','],\n",
       " [',', 'in'],\n",
       " ['in', 'a'],\n",
       " ['a', 'rematch'],\n",
       " ['rematch', 'of'],\n",
       " ['of', 'the'],\n",
       " ['the', '1981'],\n",
       " ['1981', 'Finals'],\n",
       " ['Finals', '('],\n",
       " ['(', 'only'],\n",
       " ['only', 'Allen'],\n",
       " ['Allen', 'Leavell'],\n",
       " ['Leavell', 'and'],\n",
       " ['and', 'Robert'],\n",
       " ['Robert', 'Reid'],\n",
       " ['Reid', 'remained'],\n",
       " ['remained', 'from'],\n",
       " ['from', 'the'],\n",
       " ['the', 'Rockets'],\n",
       " ['Rockets', \"'\"],\n",
       " [\"'\", '1981'],\n",
       " ['1981', 'team'],\n",
       " ['team', ')'],\n",
       " [')', '.'],\n",
       " ['.', 'The'],\n",
       " ['The', 'Celtics'],\n",
       " ['Celtics', 'defeated'],\n",
       " ['defeated', 'the'],\n",
       " ['the', 'Rockets'],\n",
       " ['Rockets', 'four'],\n",
       " ['four', 'games'],\n",
       " ['games', 'to'],\n",
       " ['to', 'two'],\n",
       " ['two', 'to'],\n",
       " ['to', 'win'],\n",
       " ['win', 'their'],\n",
       " ['their', '16th'],\n",
       " ['16th', 'NBA'],\n",
       " ['NBA', 'championship'],\n",
       " ['championship', '.'],\n",
       " ['.', 'The'],\n",
       " ['The', 'championship'],\n",
       " ['championship', 'would'],\n",
       " ['would', 'be'],\n",
       " ['be', 'the'],\n",
       " ['the', 'Celtics'],\n",
       " ['Celtics', \"'\"],\n",
       " [\"'\", 'last'],\n",
       " ['last', 'until'],\n",
       " ['until', 'the'],\n",
       " ['the', '2008'],\n",
       " ['2008', 'NBA'],\n",
       " ['NBA', 'Finals'],\n",
       " ['Finals', '.'],\n",
       " ['.', 'Larry'],\n",
       " ['Larry', 'Bird'],\n",
       " ['Bird', 'was'],\n",
       " ['was', 'named'],\n",
       " ['named', 'the'],\n",
       " ['the', 'Finals'],\n",
       " ['Finals', 'MVP'],\n",
       " ['MVP', '.'],\n",
       " ['.', '  '],\n",
       " ['  ', 'On'],\n",
       " ['On', 'another'],\n",
       " ['another', 'note'],\n",
       " ['note', ','],\n",
       " [',', 'this'],\n",
       " ['this', 'series'],\n",
       " ['series', 'marked'],\n",
       " ['marked', 'the'],\n",
       " ['the', 'first'],\n",
       " ['first', 'time'],\n",
       " ['time', 'the'],\n",
       " ['the', '`'],\n",
       " ['`', '`'],\n",
       " ['`', 'NBA'],\n",
       " ['NBA', 'Finals'],\n",
       " ['Finals', \"''\"],\n",
       " [\"''\", 'branding'],\n",
       " ['branding', 'was'],\n",
       " ['was', 'officially'],\n",
       " ['officially', 'used'],\n",
       " ['used', ','],\n",
       " [',', 'as'],\n",
       " ['as', 'they'],\n",
       " ['they', 'dropped'],\n",
       " ['dropped', 'the'],\n",
       " ['the', '`'],\n",
       " ['`', '`'],\n",
       " ['`', 'NBA'],\n",
       " ['NBA', 'World'],\n",
       " ['World', 'Championship'],\n",
       " ['Championship', 'Series'],\n",
       " ['Series', \"''\"],\n",
       " [\"''\", 'branding'],\n",
       " ['branding', 'which'],\n",
       " ['which', 'had'],\n",
       " ['had', 'been'],\n",
       " ['been', 'in'],\n",
       " ['in', 'use'],\n",
       " ['use', 'since'],\n",
       " ['since', 'the'],\n",
       " ['the', 'beginning'],\n",
       " ['beginning', 'of'],\n",
       " ['of', 'the'],\n",
       " ['the', 'league'],\n",
       " ['league', ','],\n",
       " [',', 'though'],\n",
       " ['though', 'it'],\n",
       " ['it', 'had'],\n",
       " ['had', 'been'],\n",
       " ['been', 'unofficially'],\n",
       " ['unofficially', 'called'],\n",
       " ['called', 'the'],\n",
       " ['the', '`'],\n",
       " ['`', '`'],\n",
       " ['`', 'NBA'],\n",
       " ['NBA', 'Finals'],\n",
       " ['Finals', \"''\"],\n",
       " [\"''\", 'for'],\n",
       " ['for', 'years'],\n",
       " ['years', '.'],\n",
       " ['.', '  '],\n",
       " ['  ', 'Until'],\n",
       " ['Until', 'the'],\n",
       " ['the', '2011'],\n",
       " ['2011', 'series'],\n",
       " ['series', ','],\n",
       " [',', 'this'],\n",
       " ['this', 'was'],\n",
       " ['was', 'the'],\n",
       " ['the', 'last'],\n",
       " ['last', 'time'],\n",
       " ['time', 'the'],\n",
       " ['the', 'NBA'],\n",
       " ['NBA', 'Finals'],\n",
       " ['Finals', 'had'],\n",
       " ['had', 'started'],\n",
       " ['started', 'before'],\n",
       " ['before', 'June'],\n",
       " ['June', '.'],\n",
       " ['.', 'Since'],\n",
       " ['Since', 'game'],\n",
       " ['game', 'three'],\n",
       " ['three', ','],\n",
       " [',', 'all'],\n",
       " ['all', 'NBA'],\n",
       " ['NBA', 'Finals'],\n",
       " ['Finals', 'games'],\n",
       " ['games', 'have'],\n",
       " ['have', 'been'],\n",
       " ['been', 'played'],\n",
       " ['played', 'in'],\n",
       " ['in', 'June'],\n",
       " ['June', '.'],\n",
       " ['.', 'Starting'],\n",
       " ['Starting', 'with'],\n",
       " ['with', 'the'],\n",
       " ['the', 'following'],\n",
       " ['following', 'year'],\n",
       " ['year', ','],\n",
       " [',', 'the'],\n",
       " ['the', 'NBA'],\n",
       " ['NBA', 'Finals'],\n",
       " ['Finals', 'would'],\n",
       " ['would', 'be'],\n",
       " ['be', 'held'],\n",
       " ['held', 'exclusively'],\n",
       " ['exclusively', 'in'],\n",
       " ['in', 'the'],\n",
       " ['the', 'month'],\n",
       " ['month', 'of'],\n",
       " ['of', 'June'],\n",
       " ['June', '.'],\n",
       " ['.', 'It'],\n",
       " ['It', 'was'],\n",
       " ['was', 'also'],\n",
       " ['also', 'the'],\n",
       " ['the', 'last'],\n",
       " ['last', 'NBA'],\n",
       " ['NBA', 'Finals'],\n",
       " ['Finals', 'series'],\n",
       " ['series', 'to'],\n",
       " ['to', 'schedule'],\n",
       " ['schedule', 'a'],\n",
       " ['a', 'game'],\n",
       " ['game', 'on'],\n",
       " ['on', 'a'],\n",
       " ['a', 'Monday'],\n",
       " ['Monday', 'until'],\n",
       " ['until', '1999'],\n",
       " ['1999', 'and'],\n",
       " ['and', 'also'],\n",
       " ['also', 'the'],\n",
       " ['the', 'last'],\n",
       " ['last', 'NBA'],\n",
       " ['NBA', 'Finals'],\n",
       " ['Finals', 'game'],\n",
       " ['game', 'to'],\n",
       " ['to', 'be'],\n",
       " ['be', 'played'],\n",
       " ['played', 'on'],\n",
       " ['on', 'Memorial'],\n",
       " ['Memorial', 'Day'],\n",
       " ['Day', '.'],\n",
       " ['.', '  '],\n",
       " ['  ', 'CBS'],\n",
       " ['CBS', 'Sports'],\n",
       " ['Sports', 'used'],\n",
       " ['used', 'Dick'],\n",
       " ['Dick', 'Stockton'],\n",
       " ['Stockton', 'and'],\n",
       " ['and', 'Tom'],\n",
       " ['Tom', 'Heinsohn'],\n",
       " ['Heinsohn', 'as'],\n",
       " ['as', 'the'],\n",
       " ['the', 'play'],\n",
       " ['play', '-'],\n",
       " ['-', 'by'],\n",
       " ['by', '-'],\n",
       " ['-', 'play'],\n",
       " ['play', 'man'],\n",
       " ['man', 'and'],\n",
       " ['and', 'color'],\n",
       " ['color', 'commentator'],\n",
       " ['commentator', 'respectively'],\n",
       " ['respectively', '.'],\n",
       " ['.', 'Meanwhile'],\n",
       " ['Meanwhile', ','],\n",
       " [',', 'Brent'],\n",
       " ['Brent', 'Musburger'],\n",
       " ['Musburger', 'was'],\n",
       " ['was', 'the'],\n",
       " ['the', 'host'],\n",
       " ['host', 'and'],\n",
       " ['and', 'Pat'],\n",
       " ['Pat', \"O'Brien\"],\n",
       " [\"O'Brien\", '('],\n",
       " ['(', 'the'],\n",
       " ['the', 'Rockets'],\n",
       " ['Rockets', \"'\"],\n",
       " [\"'\", 'sideline'],\n",
       " ['sideline', ')'],\n",
       " [')', 'and'],\n",
       " ['and', 'Lesley'],\n",
       " ['Lesley', 'Visser'],\n",
       " ['Visser', '('],\n",
       " ['(', 'the'],\n",
       " ['the', 'Celtics'],\n",
       " ['Celtics', \"'\"],\n",
       " [\"'\", 'sideline'],\n",
       " ['sideline', ')'],\n",
       " [')', 'were'],\n",
       " ['were', 'the'],\n",
       " ['the', 'sideline'],\n",
       " ['sideline', 'reporters'],\n",
       " ['reporters', '.']]"
      ]
     },
     "execution_count": 26,
     "metadata": {},
     "output_type": "execute_result"
    }
   ],
   "source": [
    "wiki_database_n_grams.get_item(input_type='id', input_value=document_id, output_type='text')"
   ]
  },
  {
   "cell_type": "markdown",
   "metadata": {},
   "source": [
    "## Lines"
   ]
  },
  {
   "cell_type": "code",
   "execution_count": 27,
   "metadata": {},
   "outputs": [
    {
     "data": {
      "text/plain": [
       "[[['The', '1986'],\n",
       "  ['1986', 'NBA'],\n",
       "  ['NBA', 'Finals'],\n",
       "  ['Finals', 'was'],\n",
       "  ['was', 'the'],\n",
       "  ['the', 'championship'],\n",
       "  ['championship', 'round'],\n",
       "  ['round', 'of'],\n",
       "  ['of', 'the'],\n",
       "  ['the', '1985'],\n",
       "  ['1985', '--'],\n",
       "  ['--', '86'],\n",
       "  ['86', 'NBA'],\n",
       "  ['NBA', 'season'],\n",
       "  ['season', '.']],\n",
       " [['It', 'pitted'],\n",
       "  ['pitted', 'the'],\n",
       "  ['the', 'Eastern'],\n",
       "  ['Eastern', 'Conference'],\n",
       "  ['Conference', 'champion'],\n",
       "  ['champion', 'Boston'],\n",
       "  ['Boston', 'Celtics'],\n",
       "  ['Celtics', 'against'],\n",
       "  ['against', 'the'],\n",
       "  ['the', 'Western'],\n",
       "  ['Western', 'Conference'],\n",
       "  ['Conference', 'champion'],\n",
       "  ['champion', 'Houston'],\n",
       "  ['Houston', 'Rockets'],\n",
       "  ['Rockets', ','],\n",
       "  [',', 'in'],\n",
       "  ['in', 'a'],\n",
       "  ['a', 'rematch'],\n",
       "  ['rematch', 'of'],\n",
       "  ['of', 'the'],\n",
       "  ['the', '1981'],\n",
       "  ['1981', 'Finals'],\n",
       "  ['Finals', '-LRB-'],\n",
       "  ['-LRB-', 'only'],\n",
       "  ['only', 'Allen'],\n",
       "  ['Allen', 'Leavell'],\n",
       "  ['Leavell', 'and'],\n",
       "  ['and', 'Robert'],\n",
       "  ['Robert', 'Reid'],\n",
       "  ['Reid', 'remained'],\n",
       "  ['remained', 'from'],\n",
       "  ['from', 'the'],\n",
       "  ['the', 'Rockets'],\n",
       "  ['Rockets', \"'\"],\n",
       "  [\"'\", '1981'],\n",
       "  ['1981', 'team'],\n",
       "  ['team', '-RRB-'],\n",
       "  ['-RRB-', '.']],\n",
       " [['The', 'Celtics'],\n",
       "  ['Celtics', 'defeated'],\n",
       "  ['defeated', 'the'],\n",
       "  ['the', 'Rockets'],\n",
       "  ['Rockets', 'four'],\n",
       "  ['four', 'games'],\n",
       "  ['games', 'to'],\n",
       "  ['to', 'two'],\n",
       "  ['two', 'to'],\n",
       "  ['to', 'win'],\n",
       "  ['win', 'their'],\n",
       "  ['their', '16th'],\n",
       "  ['16th', 'NBA'],\n",
       "  ['NBA', 'championship'],\n",
       "  ['championship', '.']],\n",
       " [['The', 'championship'],\n",
       "  ['championship', 'would'],\n",
       "  ['would', 'be'],\n",
       "  ['be', 'the'],\n",
       "  ['the', 'Celtics'],\n",
       "  ['Celtics', \"'\"],\n",
       "  [\"'\", 'last'],\n",
       "  ['last', 'until'],\n",
       "  ['until', 'the'],\n",
       "  ['the', '2008'],\n",
       "  ['2008', 'NBA'],\n",
       "  ['NBA', 'Finals'],\n",
       "  ['Finals', '.']],\n",
       " [['Larry', 'Bird'],\n",
       "  ['Bird', 'was'],\n",
       "  ['was', 'named'],\n",
       "  ['named', 'the'],\n",
       "  ['the', 'Finals'],\n",
       "  ['Finals', 'MVP'],\n",
       "  ['MVP', '.']],\n",
       " [],\n",
       " [],\n",
       " [['On', 'another'],\n",
       "  ['another', 'note'],\n",
       "  ['note', ','],\n",
       "  [',', 'this'],\n",
       "  ['this', 'series'],\n",
       "  ['series', 'marked'],\n",
       "  ['marked', 'the'],\n",
       "  ['the', 'first'],\n",
       "  ['first', 'time'],\n",
       "  ['time', 'the'],\n",
       "  ['the', '`'],\n",
       "  ['`', '`'],\n",
       "  ['`', 'NBA'],\n",
       "  ['NBA', 'Finals'],\n",
       "  ['Finals', \"''\"],\n",
       "  [\"''\", 'branding'],\n",
       "  ['branding', 'was'],\n",
       "  ['was', 'officially'],\n",
       "  ['officially', 'used'],\n",
       "  ['used', ','],\n",
       "  [',', 'as'],\n",
       "  ['as', 'they'],\n",
       "  ['they', 'dropped'],\n",
       "  ['dropped', 'the'],\n",
       "  ['the', '`'],\n",
       "  ['`', '`'],\n",
       "  ['`', 'NBA'],\n",
       "  ['NBA', 'World'],\n",
       "  ['World', 'Championship'],\n",
       "  ['Championship', 'Series'],\n",
       "  ['Series', \"''\"],\n",
       "  [\"''\", 'branding'],\n",
       "  ['branding', 'which'],\n",
       "  ['which', 'had'],\n",
       "  ['had', 'been'],\n",
       "  ['been', 'in'],\n",
       "  ['in', 'use'],\n",
       "  ['use', 'since'],\n",
       "  ['since', 'the'],\n",
       "  ['the', 'beginning'],\n",
       "  ['beginning', 'of'],\n",
       "  ['of', 'the'],\n",
       "  ['the', 'league'],\n",
       "  ['league', ','],\n",
       "  [',', 'though'],\n",
       "  ['though', 'it'],\n",
       "  ['it', 'had'],\n",
       "  ['had', 'been'],\n",
       "  ['been', 'unofficially'],\n",
       "  ['unofficially', 'called'],\n",
       "  ['called', 'the'],\n",
       "  ['the', '`'],\n",
       "  ['`', '`'],\n",
       "  ['`', 'NBA'],\n",
       "  ['NBA', 'Finals'],\n",
       "  ['Finals', \"''\"],\n",
       "  [\"''\", 'for'],\n",
       "  ['for', 'years'],\n",
       "  ['years', '.']],\n",
       " [],\n",
       " [],\n",
       " [['Until', 'the'],\n",
       "  ['the', '2011'],\n",
       "  ['2011', 'series'],\n",
       "  ['series', ','],\n",
       "  [',', 'this'],\n",
       "  ['this', 'was'],\n",
       "  ['was', 'the'],\n",
       "  ['the', 'last'],\n",
       "  ['last', 'time'],\n",
       "  ['time', 'the'],\n",
       "  ['the', 'NBA'],\n",
       "  ['NBA', 'Finals'],\n",
       "  ['Finals', 'had'],\n",
       "  ['had', 'started'],\n",
       "  ['started', 'before'],\n",
       "  ['before', 'June'],\n",
       "  ['June', '.']],\n",
       " [['Since', 'game'],\n",
       "  ['game', 'three'],\n",
       "  ['three', ','],\n",
       "  [',', 'all'],\n",
       "  ['all', 'NBA'],\n",
       "  ['NBA', 'Finals'],\n",
       "  ['Finals', 'games'],\n",
       "  ['games', 'have'],\n",
       "  ['have', 'been'],\n",
       "  ['been', 'played'],\n",
       "  ['played', 'in'],\n",
       "  ['in', 'June'],\n",
       "  ['June', '.']],\n",
       " [['Starting', 'with'],\n",
       "  ['with', 'the'],\n",
       "  ['the', 'following'],\n",
       "  ['following', 'year'],\n",
       "  ['year', ','],\n",
       "  [',', 'the'],\n",
       "  ['the', 'NBA'],\n",
       "  ['NBA', 'Finals'],\n",
       "  ['Finals', 'would'],\n",
       "  ['would', 'be'],\n",
       "  ['be', 'held'],\n",
       "  ['held', 'exclusively'],\n",
       "  ['exclusively', 'in'],\n",
       "  ['in', 'the'],\n",
       "  ['the', 'month'],\n",
       "  ['month', 'of'],\n",
       "  ['of', 'June'],\n",
       "  ['June', '.']],\n",
       " [['It', 'was'],\n",
       "  ['was', 'also'],\n",
       "  ['also', 'the'],\n",
       "  ['the', 'last'],\n",
       "  ['last', 'NBA'],\n",
       "  ['NBA', 'Finals'],\n",
       "  ['Finals', 'series'],\n",
       "  ['series', 'to'],\n",
       "  ['to', 'schedule'],\n",
       "  ['schedule', 'a'],\n",
       "  ['a', 'game'],\n",
       "  ['game', 'on'],\n",
       "  ['on', 'a'],\n",
       "  ['a', 'Monday'],\n",
       "  ['Monday', 'until'],\n",
       "  ['until', '1999'],\n",
       "  ['1999', 'and'],\n",
       "  ['and', 'also'],\n",
       "  ['also', 'the'],\n",
       "  ['the', 'last'],\n",
       "  ['last', 'NBA'],\n",
       "  ['NBA', 'Finals'],\n",
       "  ['Finals', 'game'],\n",
       "  ['game', 'to'],\n",
       "  ['to', 'be'],\n",
       "  ['be', 'played'],\n",
       "  ['played', 'on'],\n",
       "  ['on', 'Memorial'],\n",
       "  ['Memorial', 'Day'],\n",
       "  ['Day', '.']],\n",
       " [],\n",
       " [],\n",
       " [['CBS', 'Sports'],\n",
       "  ['Sports', 'used'],\n",
       "  ['used', 'Dick'],\n",
       "  ['Dick', 'Stockton'],\n",
       "  ['Stockton', 'and'],\n",
       "  ['and', 'Tom'],\n",
       "  ['Tom', 'Heinsohn'],\n",
       "  ['Heinsohn', 'as'],\n",
       "  ['as', 'the'],\n",
       "  ['the', 'play'],\n",
       "  ['play', '-'],\n",
       "  ['-', 'by'],\n",
       "  ['by', '-'],\n",
       "  ['-', 'play'],\n",
       "  ['play', 'man'],\n",
       "  ['man', 'and'],\n",
       "  ['and', 'color'],\n",
       "  ['color', 'commentator'],\n",
       "  ['commentator', 'respectively'],\n",
       "  ['respectively', '.']],\n",
       " [['Meanwhile', ','],\n",
       "  [',', 'Brent'],\n",
       "  ['Brent', 'Musburger'],\n",
       "  ['Musburger', 'was'],\n",
       "  ['was', 'the'],\n",
       "  ['the', 'host'],\n",
       "  ['host', 'and'],\n",
       "  ['and', 'Pat'],\n",
       "  ['Pat', \"O'Brien\"],\n",
       "  [\"O'Brien\", '-LRB-'],\n",
       "  ['-LRB-', 'the'],\n",
       "  ['the', 'Rockets'],\n",
       "  ['Rockets', \"'\"],\n",
       "  [\"'\", 'sideline'],\n",
       "  ['sideline', '-RRB-'],\n",
       "  ['-RRB-', 'and'],\n",
       "  ['and', 'Lesley'],\n",
       "  ['Lesley', 'Visser'],\n",
       "  ['Visser', '-LRB-'],\n",
       "  ['-LRB-', 'the'],\n",
       "  ['the', 'Celtics'],\n",
       "  ['Celtics', \"'\"],\n",
       "  [\"'\", 'sideline'],\n",
       "  ['sideline', '-RRB-'],\n",
       "  ['-RRB-', 'were'],\n",
       "  ['were', 'the'],\n",
       "  ['the', 'sideline'],\n",
       "  ['sideline', 'reporters'],\n",
       "  ['reporters', '.']],\n",
       " []]"
      ]
     },
     "execution_count": 27,
     "metadata": {},
     "output_type": "execute_result"
    }
   ],
   "source": [
    "wiki_database_n_grams.get_item(input_type='id', input_value=document_id, output_type='lines')"
   ]
  },
  {
   "cell_type": "code",
   "execution_count": null,
   "metadata": {},
   "outputs": [],
   "source": []
  }
 ],
 "metadata": {
  "kernelspec": {
   "display_name": "Python 3",
   "language": "python",
   "name": "python3"
  },
  "language_info": {
   "codemirror_mode": {
    "name": "ipython",
    "version": 3
   },
   "file_extension": ".py",
   "mimetype": "text/x-python",
   "name": "python",
   "nbconvert_exporter": "python",
   "pygments_lexer": "ipython3",
   "version": "3.6.8"
  }
 },
 "nbformat": 4,
 "nbformat_minor": 2
}
